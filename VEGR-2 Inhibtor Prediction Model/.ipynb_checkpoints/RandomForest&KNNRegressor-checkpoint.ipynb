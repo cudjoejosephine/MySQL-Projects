{
 "cells": [
  {
   "cell_type": "code",
   "execution_count": 111,
   "id": "6854fb3a",
   "metadata": {},
   "outputs": [],
   "source": [
    "import numpy as np\n",
    "import matplotlib.pyplot as plt\n",
    "import seaborn as sns\n",
    "import pandas as pd\n",
    "from sklearn.model_selection import train_test_split\n",
    "from sklearn.ensemble import RandomForestRegressor\n"
   ]
  },
  {
   "cell_type": "code",
   "execution_count": 112,
   "id": "30bac88d",
   "metadata": {},
   "outputs": [
    {
     "data": {
      "text/html": [
       "<div>\n",
       "<style scoped>\n",
       "    .dataframe tbody tr th:only-of-type {\n",
       "        vertical-align: middle;\n",
       "    }\n",
       "\n",
       "    .dataframe tbody tr th {\n",
       "        vertical-align: top;\n",
       "    }\n",
       "\n",
       "    .dataframe thead th {\n",
       "        text-align: right;\n",
       "    }\n",
       "</style>\n",
       "<table border=\"1\" class=\"dataframe\">\n",
       "  <thead>\n",
       "    <tr style=\"text-align: right;\">\n",
       "      <th></th>\n",
       "      <th>Col_0</th>\n",
       "      <th>Col_1</th>\n",
       "      <th>Col_2</th>\n",
       "      <th>Col_3</th>\n",
       "      <th>Col_4</th>\n",
       "      <th>Col_5</th>\n",
       "      <th>Col_6</th>\n",
       "      <th>Col_7</th>\n",
       "      <th>Col_8</th>\n",
       "      <th>Col_9</th>\n",
       "      <th>...</th>\n",
       "      <th>Col_2038</th>\n",
       "      <th>Col_2039</th>\n",
       "      <th>Col_2040</th>\n",
       "      <th>Col_2041</th>\n",
       "      <th>Col_2042</th>\n",
       "      <th>Col_2043</th>\n",
       "      <th>Col_2044</th>\n",
       "      <th>Col_2045</th>\n",
       "      <th>Col_2046</th>\n",
       "      <th>Col_2047</th>\n",
       "    </tr>\n",
       "  </thead>\n",
       "  <tbody>\n",
       "    <tr>\n",
       "      <th>0</th>\n",
       "      <td>0</td>\n",
       "      <td>0</td>\n",
       "      <td>0</td>\n",
       "      <td>0</td>\n",
       "      <td>0</td>\n",
       "      <td>0</td>\n",
       "      <td>0</td>\n",
       "      <td>0</td>\n",
       "      <td>0</td>\n",
       "      <td>0</td>\n",
       "      <td>...</td>\n",
       "      <td>0</td>\n",
       "      <td>0</td>\n",
       "      <td>0</td>\n",
       "      <td>0</td>\n",
       "      <td>0</td>\n",
       "      <td>1</td>\n",
       "      <td>0</td>\n",
       "      <td>0</td>\n",
       "      <td>0</td>\n",
       "      <td>0</td>\n",
       "    </tr>\n",
       "    <tr>\n",
       "      <th>1</th>\n",
       "      <td>0</td>\n",
       "      <td>0</td>\n",
       "      <td>0</td>\n",
       "      <td>0</td>\n",
       "      <td>0</td>\n",
       "      <td>0</td>\n",
       "      <td>0</td>\n",
       "      <td>0</td>\n",
       "      <td>0</td>\n",
       "      <td>0</td>\n",
       "      <td>...</td>\n",
       "      <td>0</td>\n",
       "      <td>0</td>\n",
       "      <td>0</td>\n",
       "      <td>0</td>\n",
       "      <td>0</td>\n",
       "      <td>0</td>\n",
       "      <td>0</td>\n",
       "      <td>0</td>\n",
       "      <td>0</td>\n",
       "      <td>0</td>\n",
       "    </tr>\n",
       "    <tr>\n",
       "      <th>2</th>\n",
       "      <td>0</td>\n",
       "      <td>0</td>\n",
       "      <td>0</td>\n",
       "      <td>0</td>\n",
       "      <td>0</td>\n",
       "      <td>0</td>\n",
       "      <td>0</td>\n",
       "      <td>0</td>\n",
       "      <td>0</td>\n",
       "      <td>0</td>\n",
       "      <td>...</td>\n",
       "      <td>0</td>\n",
       "      <td>0</td>\n",
       "      <td>0</td>\n",
       "      <td>0</td>\n",
       "      <td>0</td>\n",
       "      <td>0</td>\n",
       "      <td>0</td>\n",
       "      <td>0</td>\n",
       "      <td>0</td>\n",
       "      <td>0</td>\n",
       "    </tr>\n",
       "    <tr>\n",
       "      <th>3</th>\n",
       "      <td>0</td>\n",
       "      <td>0</td>\n",
       "      <td>0</td>\n",
       "      <td>0</td>\n",
       "      <td>0</td>\n",
       "      <td>0</td>\n",
       "      <td>0</td>\n",
       "      <td>0</td>\n",
       "      <td>0</td>\n",
       "      <td>0</td>\n",
       "      <td>...</td>\n",
       "      <td>0</td>\n",
       "      <td>0</td>\n",
       "      <td>0</td>\n",
       "      <td>0</td>\n",
       "      <td>0</td>\n",
       "      <td>1</td>\n",
       "      <td>0</td>\n",
       "      <td>0</td>\n",
       "      <td>0</td>\n",
       "      <td>0</td>\n",
       "    </tr>\n",
       "    <tr>\n",
       "      <th>4</th>\n",
       "      <td>0</td>\n",
       "      <td>0</td>\n",
       "      <td>0</td>\n",
       "      <td>0</td>\n",
       "      <td>0</td>\n",
       "      <td>0</td>\n",
       "      <td>0</td>\n",
       "      <td>0</td>\n",
       "      <td>0</td>\n",
       "      <td>0</td>\n",
       "      <td>...</td>\n",
       "      <td>0</td>\n",
       "      <td>0</td>\n",
       "      <td>0</td>\n",
       "      <td>0</td>\n",
       "      <td>0</td>\n",
       "      <td>0</td>\n",
       "      <td>0</td>\n",
       "      <td>0</td>\n",
       "      <td>0</td>\n",
       "      <td>0</td>\n",
       "    </tr>\n",
       "    <tr>\n",
       "      <th>...</th>\n",
       "      <td>...</td>\n",
       "      <td>...</td>\n",
       "      <td>...</td>\n",
       "      <td>...</td>\n",
       "      <td>...</td>\n",
       "      <td>...</td>\n",
       "      <td>...</td>\n",
       "      <td>...</td>\n",
       "      <td>...</td>\n",
       "      <td>...</td>\n",
       "      <td>...</td>\n",
       "      <td>...</td>\n",
       "      <td>...</td>\n",
       "      <td>...</td>\n",
       "      <td>...</td>\n",
       "      <td>...</td>\n",
       "      <td>...</td>\n",
       "      <td>...</td>\n",
       "      <td>...</td>\n",
       "      <td>...</td>\n",
       "      <td>...</td>\n",
       "    </tr>\n",
       "    <tr>\n",
       "      <th>12488</th>\n",
       "      <td>0</td>\n",
       "      <td>0</td>\n",
       "      <td>1</td>\n",
       "      <td>0</td>\n",
       "      <td>0</td>\n",
       "      <td>0</td>\n",
       "      <td>0</td>\n",
       "      <td>0</td>\n",
       "      <td>0</td>\n",
       "      <td>0</td>\n",
       "      <td>...</td>\n",
       "      <td>0</td>\n",
       "      <td>0</td>\n",
       "      <td>0</td>\n",
       "      <td>0</td>\n",
       "      <td>0</td>\n",
       "      <td>0</td>\n",
       "      <td>0</td>\n",
       "      <td>0</td>\n",
       "      <td>0</td>\n",
       "      <td>0</td>\n",
       "    </tr>\n",
       "    <tr>\n",
       "      <th>12489</th>\n",
       "      <td>0</td>\n",
       "      <td>0</td>\n",
       "      <td>0</td>\n",
       "      <td>0</td>\n",
       "      <td>0</td>\n",
       "      <td>0</td>\n",
       "      <td>0</td>\n",
       "      <td>0</td>\n",
       "      <td>0</td>\n",
       "      <td>0</td>\n",
       "      <td>...</td>\n",
       "      <td>0</td>\n",
       "      <td>0</td>\n",
       "      <td>0</td>\n",
       "      <td>0</td>\n",
       "      <td>0</td>\n",
       "      <td>1</td>\n",
       "      <td>0</td>\n",
       "      <td>0</td>\n",
       "      <td>0</td>\n",
       "      <td>0</td>\n",
       "    </tr>\n",
       "    <tr>\n",
       "      <th>12490</th>\n",
       "      <td>0</td>\n",
       "      <td>0</td>\n",
       "      <td>0</td>\n",
       "      <td>0</td>\n",
       "      <td>0</td>\n",
       "      <td>0</td>\n",
       "      <td>0</td>\n",
       "      <td>0</td>\n",
       "      <td>0</td>\n",
       "      <td>0</td>\n",
       "      <td>...</td>\n",
       "      <td>0</td>\n",
       "      <td>0</td>\n",
       "      <td>0</td>\n",
       "      <td>0</td>\n",
       "      <td>0</td>\n",
       "      <td>0</td>\n",
       "      <td>0</td>\n",
       "      <td>0</td>\n",
       "      <td>0</td>\n",
       "      <td>0</td>\n",
       "    </tr>\n",
       "    <tr>\n",
       "      <th>12491</th>\n",
       "      <td>0</td>\n",
       "      <td>0</td>\n",
       "      <td>0</td>\n",
       "      <td>0</td>\n",
       "      <td>0</td>\n",
       "      <td>0</td>\n",
       "      <td>0</td>\n",
       "      <td>0</td>\n",
       "      <td>0</td>\n",
       "      <td>0</td>\n",
       "      <td>...</td>\n",
       "      <td>0</td>\n",
       "      <td>0</td>\n",
       "      <td>0</td>\n",
       "      <td>0</td>\n",
       "      <td>0</td>\n",
       "      <td>0</td>\n",
       "      <td>0</td>\n",
       "      <td>0</td>\n",
       "      <td>0</td>\n",
       "      <td>0</td>\n",
       "    </tr>\n",
       "    <tr>\n",
       "      <th>12492</th>\n",
       "      <td>0</td>\n",
       "      <td>0</td>\n",
       "      <td>0</td>\n",
       "      <td>0</td>\n",
       "      <td>0</td>\n",
       "      <td>0</td>\n",
       "      <td>0</td>\n",
       "      <td>0</td>\n",
       "      <td>0</td>\n",
       "      <td>0</td>\n",
       "      <td>...</td>\n",
       "      <td>0</td>\n",
       "      <td>0</td>\n",
       "      <td>0</td>\n",
       "      <td>0</td>\n",
       "      <td>0</td>\n",
       "      <td>0</td>\n",
       "      <td>0</td>\n",
       "      <td>0</td>\n",
       "      <td>0</td>\n",
       "      <td>0</td>\n",
       "    </tr>\n",
       "  </tbody>\n",
       "</table>\n",
       "<p>12493 rows × 2048 columns</p>\n",
       "</div>"
      ],
      "text/plain": [
       "       Col_0  Col_1  Col_2  Col_3  Col_4  Col_5  Col_6  Col_7  Col_8  Col_9  \\\n",
       "0          0      0      0      0      0      0      0      0      0      0   \n",
       "1          0      0      0      0      0      0      0      0      0      0   \n",
       "2          0      0      0      0      0      0      0      0      0      0   \n",
       "3          0      0      0      0      0      0      0      0      0      0   \n",
       "4          0      0      0      0      0      0      0      0      0      0   \n",
       "...      ...    ...    ...    ...    ...    ...    ...    ...    ...    ...   \n",
       "12488      0      0      1      0      0      0      0      0      0      0   \n",
       "12489      0      0      0      0      0      0      0      0      0      0   \n",
       "12490      0      0      0      0      0      0      0      0      0      0   \n",
       "12491      0      0      0      0      0      0      0      0      0      0   \n",
       "12492      0      0      0      0      0      0      0      0      0      0   \n",
       "\n",
       "       ...  Col_2038  Col_2039  Col_2040  Col_2041  Col_2042  Col_2043  \\\n",
       "0      ...         0         0         0         0         0         1   \n",
       "1      ...         0         0         0         0         0         0   \n",
       "2      ...         0         0         0         0         0         0   \n",
       "3      ...         0         0         0         0         0         1   \n",
       "4      ...         0         0         0         0         0         0   \n",
       "...    ...       ...       ...       ...       ...       ...       ...   \n",
       "12488  ...         0         0         0         0         0         0   \n",
       "12489  ...         0         0         0         0         0         1   \n",
       "12490  ...         0         0         0         0         0         0   \n",
       "12491  ...         0         0         0         0         0         0   \n",
       "12492  ...         0         0         0         0         0         0   \n",
       "\n",
       "       Col_2044  Col_2045  Col_2046  Col_2047  \n",
       "0             0         0         0         0  \n",
       "1             0         0         0         0  \n",
       "2             0         0         0         0  \n",
       "3             0         0         0         0  \n",
       "4             0         0         0         0  \n",
       "...         ...       ...       ...       ...  \n",
       "12488         0         0         0         0  \n",
       "12489         0         0         0         0  \n",
       "12490         0         0         0         0  \n",
       "12491         0         0         0         0  \n",
       "12492         0         0         0         0  \n",
       "\n",
       "[12493 rows x 2048 columns]"
      ]
     },
     "execution_count": 112,
     "metadata": {},
     "output_type": "execute_result"
    }
   ],
   "source": [
    "#fingerprints = pd.read_csv(\"pubchemfprints.csv\")\n",
    "#fingerprints = pd.read_csv(\"criptors.csv\")\n",
    "fingerprints = pd.read_csv(\"morgan.csv\")\n",
    "#fingerprints = pd.read_csv(\"mordred.csv\")\n",
    "#fingerprints = pd.read_csv(\"substructure.csv\")\n",
    "#fingerprints = pd.read_csv(\"MACCS.csv\")\n",
    "#fingerprints = pd.read_csv(\"AtomPairs2D.csv\")\n",
    "#fingerprints = pd.read_csv(\"mordred.csv\")\n",
    "\n",
    "#fingerprints = pd.read_csv(\"mold2.csv\")\n",
    "#fingerprints = fingerprints.drop(\"ReadIn_ID\", axis=1)\n",
    "#fingerprints = fingerprints.drop(\"USER_ID\", axis=1)\n",
    "\n",
    "#import numpy as np\n",
    "#fingerprints = fingerprints.select_dtypes(include=[np.number])\n",
    "fingerprints"
   ]
  },
  {
   "cell_type": "code",
   "execution_count": 113,
   "id": "42735696",
   "metadata": {},
   "outputs": [
    {
     "data": {
      "text/html": [
       "<div>\n",
       "<style scoped>\n",
       "    .dataframe tbody tr th:only-of-type {\n",
       "        vertical-align: middle;\n",
       "    }\n",
       "\n",
       "    .dataframe tbody tr th {\n",
       "        vertical-align: top;\n",
       "    }\n",
       "\n",
       "    .dataframe thead th {\n",
       "        text-align: right;\n",
       "    }\n",
       "</style>\n",
       "<table border=\"1\" class=\"dataframe\">\n",
       "  <thead>\n",
       "    <tr style=\"text-align: right;\">\n",
       "      <th></th>\n",
       "      <th>Smiles</th>\n",
       "      <th>Molecule_ChEMBL_ID</th>\n",
       "      <th>IC50</th>\n",
       "    </tr>\n",
       "  </thead>\n",
       "  <tbody>\n",
       "    <tr>\n",
       "      <th>0</th>\n",
       "      <td>CNC(=O)c1cc(Oc2ccc(NC(=O)Nc3ccc(Cl)c(C(F)(F)F)...</td>\n",
       "      <td>CHEMBL1336</td>\n",
       "      <td>0.588</td>\n",
       "    </tr>\n",
       "    <tr>\n",
       "      <th>1</th>\n",
       "      <td>Cc1cccc(NC(=O)c2cccc(N3CCc4nc(N)ncc4C3)c2)c1</td>\n",
       "      <td>CHEMBL3702603</td>\n",
       "      <td>114.000</td>\n",
       "    </tr>\n",
       "    <tr>\n",
       "      <th>2</th>\n",
       "      <td>Cc1ccc(-c2cc3nnnc(N4CCOCC4)c3[se]2)cc1</td>\n",
       "      <td>CHEMBL2377475</td>\n",
       "      <td>25118.860</td>\n",
       "    </tr>\n",
       "    <tr>\n",
       "      <th>3</th>\n",
       "      <td>Cc1cc(Oc2cc(NC(=O)C3CC3)ncn2)ccc1NC(=O)Nc1ccc(...</td>\n",
       "      <td>CHEMBL3904153</td>\n",
       "      <td>8.900</td>\n",
       "    </tr>\n",
       "    <tr>\n",
       "      <th>4</th>\n",
       "      <td>Cc1cc(Oc2cc(NC(=O)C3CC3)ncn2)ccc1NC(=O)Nc1cc(N...</td>\n",
       "      <td>CHEMBL3889762</td>\n",
       "      <td>12.500</td>\n",
       "    </tr>\n",
       "    <tr>\n",
       "      <th>...</th>\n",
       "      <td>...</td>\n",
       "      <td>...</td>\n",
       "      <td>...</td>\n",
       "    </tr>\n",
       "    <tr>\n",
       "      <th>12488</th>\n",
       "      <td>Cc1ccc(C)c(NC(=O)Nc2nc(Sc3c[nH]c4ccccc34)cc(N3...</td>\n",
       "      <td>CHEMBL4797072</td>\n",
       "      <td>310.000</td>\n",
       "    </tr>\n",
       "    <tr>\n",
       "      <th>12489</th>\n",
       "      <td>CNC(=O)c1cc(Oc2ccc(NC(=O)Nc3ccc(Cl)c(C(F)(F)F)...</td>\n",
       "      <td>CHEMBL1336</td>\n",
       "      <td>90.000</td>\n",
       "    </tr>\n",
       "    <tr>\n",
       "      <th>12490</th>\n",
       "      <td>COc1ccc(NC(=O)Nc2ccc(C(=O)N/N=C3\\C(=O)Nc4ccc(F...</td>\n",
       "      <td>CHEMBL4458736</td>\n",
       "      <td>3790.000</td>\n",
       "    </tr>\n",
       "    <tr>\n",
       "      <th>12491</th>\n",
       "      <td>COc1cc2c(Nc3ccc(Br)cc3F)ncnc2cc1OCC1CCN(C)CC1</td>\n",
       "      <td>CHEMBL24828</td>\n",
       "      <td>22.000</td>\n",
       "    </tr>\n",
       "    <tr>\n",
       "      <th>12492</th>\n",
       "      <td>COc1cc2c(Nc3ccc(Br)cc3F)ncnc2cc1OCC1CCN(C)CC1</td>\n",
       "      <td>CHEMBL24828</td>\n",
       "      <td>41.800</td>\n",
       "    </tr>\n",
       "  </tbody>\n",
       "</table>\n",
       "<p>12493 rows × 3 columns</p>\n",
       "</div>"
      ],
      "text/plain": [
       "                                                  Smiles Molecule_ChEMBL_ID  \\\n",
       "0      CNC(=O)c1cc(Oc2ccc(NC(=O)Nc3ccc(Cl)c(C(F)(F)F)...         CHEMBL1336   \n",
       "1           Cc1cccc(NC(=O)c2cccc(N3CCc4nc(N)ncc4C3)c2)c1      CHEMBL3702603   \n",
       "2                 Cc1ccc(-c2cc3nnnc(N4CCOCC4)c3[se]2)cc1      CHEMBL2377475   \n",
       "3      Cc1cc(Oc2cc(NC(=O)C3CC3)ncn2)ccc1NC(=O)Nc1ccc(...      CHEMBL3904153   \n",
       "4      Cc1cc(Oc2cc(NC(=O)C3CC3)ncn2)ccc1NC(=O)Nc1cc(N...      CHEMBL3889762   \n",
       "...                                                  ...                ...   \n",
       "12488  Cc1ccc(C)c(NC(=O)Nc2nc(Sc3c[nH]c4ccccc34)cc(N3...      CHEMBL4797072   \n",
       "12489  CNC(=O)c1cc(Oc2ccc(NC(=O)Nc3ccc(Cl)c(C(F)(F)F)...         CHEMBL1336   \n",
       "12490  COc1ccc(NC(=O)Nc2ccc(C(=O)N/N=C3\\C(=O)Nc4ccc(F...      CHEMBL4458736   \n",
       "12491      COc1cc2c(Nc3ccc(Br)cc3F)ncnc2cc1OCC1CCN(C)CC1        CHEMBL24828   \n",
       "12492      COc1cc2c(Nc3ccc(Br)cc3F)ncnc2cc1OCC1CCN(C)CC1        CHEMBL24828   \n",
       "\n",
       "            IC50  \n",
       "0          0.588  \n",
       "1        114.000  \n",
       "2      25118.860  \n",
       "3          8.900  \n",
       "4         12.500  \n",
       "...          ...  \n",
       "12488    310.000  \n",
       "12489     90.000  \n",
       "12490   3790.000  \n",
       "12491     22.000  \n",
       "12492     41.800  \n",
       "\n",
       "[12493 rows x 3 columns]"
      ]
     },
     "execution_count": 113,
     "metadata": {},
     "output_type": "execute_result"
    }
   ],
   "source": [
    "#data = pd.read_csv(\"combined.csv\")\n",
    "#data\n",
    "data = pd.read_csv(\"pred.csv\")\n",
    "data.rename(columns = {'Standard_Value':'IC50'}, inplace = True)\n",
    "data\n"
   ]
  },
  {
   "cell_type": "code",
   "execution_count": 114,
   "id": "5c62bc23",
   "metadata": {},
   "outputs": [
    {
     "data": {
      "text/plain": [
       "4081000.0"
      ]
     },
     "execution_count": 114,
     "metadata": {},
     "output_type": "execute_result"
    }
   ],
   "source": [
    "data[\"IC50\"].max()"
   ]
  },
  {
   "cell_type": "code",
   "execution_count": 115,
   "id": "e24a1470",
   "metadata": {},
   "outputs": [
    {
     "data": {
      "text/plain": [
       "0.03"
      ]
     },
     "execution_count": 115,
     "metadata": {},
     "output_type": "execute_result"
    }
   ],
   "source": [
    "data[\"IC50\"].min()"
   ]
  },
  {
   "cell_type": "code",
   "execution_count": 116,
   "id": "cdd760bb",
   "metadata": {},
   "outputs": [],
   "source": [
    "#x = fingerprints.drop(\"Name\", axis = 1)\n",
    "x = fingerprints\n",
    "y = data[\"IC50\"]"
   ]
  },
  {
   "cell_type": "code",
   "execution_count": 117,
   "id": "b72c0feb",
   "metadata": {},
   "outputs": [],
   "source": [
    "# Remove low variance features\n",
    "#from sklearn.feature_selection import VarianceThreshold\n",
    "#selection = VarianceThreshold(threshold=(.959 * (1 - .89)))    \n",
    "#x = selection.fit_transform(x)\n",
    "#x.shape"
   ]
  },
  {
   "cell_type": "code",
   "execution_count": 118,
   "id": "4c39381c",
   "metadata": {
    "scrolled": true
   },
   "outputs": [],
   "source": [
    "#from sklearn.feature_selection import VarianceThreshold\n",
    "\n",
    "#def remove_low_variance(input_data, threshold=0.1):\n",
    " #   selection = VarianceThreshold(threshold)\n",
    "  #  selection.fit(input_data)\n",
    "   # return input_data[input_data.columns[selection.get_support(indices=True)]]\n",
    "\n",
    "#x = remove_low_variance(x, threshold=0.1)\n",
    "#x"
   ]
  },
  {
   "cell_type": "code",
   "execution_count": 119,
   "id": "ecc149a9",
   "metadata": {
    "scrolled": true
   },
   "outputs": [],
   "source": [
    "#x = x.iloc[:, 0:176]\n"
   ]
  },
  {
   "cell_type": "code",
   "execution_count": 120,
   "id": "83eb32e1",
   "metadata": {},
   "outputs": [],
   "source": [
    "x.to_csv(\"point.csv\", index=False)"
   ]
  },
  {
   "cell_type": "code",
   "execution_count": 121,
   "id": "dab05897",
   "metadata": {},
   "outputs": [],
   "source": [
    "x_train, x_test, y_train, y_test = train_test_split(x, y, test_size=0.2, random_state=42)"
   ]
  },
  {
   "cell_type": "code",
   "execution_count": 122,
   "id": "09e940ea",
   "metadata": {},
   "outputs": [
    {
     "data": {
      "text/plain": [
       "1000000.0"
      ]
     },
     "execution_count": 122,
     "metadata": {},
     "output_type": "execute_result"
    }
   ],
   "source": [
    "y_test.max()"
   ]
  },
  {
   "cell_type": "code",
   "execution_count": 123,
   "id": "d7619488",
   "metadata": {},
   "outputs": [
    {
     "data": {
      "text/plain": [
       "0.035"
      ]
     },
     "execution_count": 123,
     "metadata": {},
     "output_type": "execute_result"
    }
   ],
   "source": [
    "y_test.min()"
   ]
  },
  {
   "cell_type": "code",
   "execution_count": 124,
   "id": "06862b53",
   "metadata": {},
   "outputs": [],
   "source": [
    "#from sklearn.preprocessing import MinMaxScaler\n",
    "#scaler = MinMaxScaler(feature_range=(0, 1))\n",
    "\n",
    "#x_train_scaled = scaler.fit_transform(x_train)\n",
    "#x_train = pd.DataFrame(x_train_scaled)\n",
    "\n",
    "#x_test_scaled = scaler.fit_transform(x_test)\n",
    "#x_test = pd.DataFrame(x_test_scaled)\n",
    "\n"
   ]
  },
  {
   "cell_type": "code",
   "execution_count": 125,
   "id": "2a8f0bb9",
   "metadata": {},
   "outputs": [],
   "source": [
    "from sklearn.preprocessing import StandardScaler\n",
    "scaler = StandardScaler()\n",
    "scaler.fit(x_train)\n",
    "x_train = scaler.transform(x_train)\n",
    "x_test = scaler.transform(x_test)"
   ]
  },
  {
   "cell_type": "markdown",
   "id": "c8778ffd",
   "metadata": {},
   "source": [
    "# Random Forest Regressor"
   ]
  },
  {
   "cell_type": "code",
   "execution_count": 126,
   "id": "62262e34",
   "metadata": {},
   "outputs": [
    {
     "data": {
      "text/plain": [
       "RandomForestRegressor()"
      ]
     },
     "execution_count": 126,
     "metadata": {},
     "output_type": "execute_result"
    }
   ],
   "source": [
    "#np.random.seed(42)\n",
    "model = RandomForestRegressor()\n",
    " \n",
    "model.fit(x_train, y_train)\n",
    "#r2 = model.score(x_test, y_test)\n",
    "#r2"
   ]
  },
  {
   "cell_type": "markdown",
   "id": "f33cc7d4",
   "metadata": {},
   "source": [
    "# Metrics for training set"
   ]
  },
  {
   "cell_type": "code",
   "execution_count": 127,
   "id": "6d3d2e56",
   "metadata": {},
   "outputs": [
    {
     "name": "stdout",
     "output_type": "stream",
     "text": [
      "Mean Absolute Error: 2984.78\n",
      "Root Mean Squared Error: 20054.354982397213\n",
      "R-squared scores: 0.8782\n"
     ]
    }
   ],
   "source": [
    "predictions = model.predict(x_train)\n",
    "from sklearn.metrics import mean_squared_error, r2_score, mean_absolute_error\n",
    "mae = mean_absolute_error(y_train.values.ravel(), predictions)\n",
    "mse = mean_squared_error(y_train.values.ravel(), predictions)\n",
    "r2 = r2_score(y_train.values.ravel(), predictions)\n",
    "\n",
    "# Print metrics\n",
    "import math\n",
    "print('Mean Absolute Error:', round(mae, 2))\n",
    "print('Root Mean Squared Error:', math.sqrt(round(mse, 2)))\n",
    "print('R-squared scores:', round(r2, 4))"
   ]
  },
  {
   "cell_type": "markdown",
   "id": "58f5e06f",
   "metadata": {},
   "source": [
    "# Metrics for testing set"
   ]
  },
  {
   "cell_type": "code",
   "execution_count": 128,
   "id": "865c81f0",
   "metadata": {},
   "outputs": [
    {
     "name": "stdout",
     "output_type": "stream",
     "text": [
      "Mean Absolute Error: 5954.7\n",
      "Root Mean Squared Error: 25957.267214019277\n",
      "R-squared scores: 0.5265\n"
     ]
    }
   ],
   "source": [
    "validation = model.predict(x_test)\n",
    "mae = mean_absolute_error(y_test.values.ravel(), validation)\n",
    "mse = mean_squared_error(y_test.values.ravel(), validation)\n",
    "r2 = r2_score(y_test.values.ravel(), validation)\n",
    "\n",
    "# Print metrics\n",
    "import math\n",
    "print('Mean Absolute Error:', round(mae, 2))\n",
    "print('Root Mean Squared Error:', math.sqrt(round(mse, 2)))\n",
    "print('R-squared scores:', round(r2, 4))"
   ]
  },
  {
   "cell_type": "code",
   "execution_count": null,
   "id": "0ec3cf25",
   "metadata": {},
   "outputs": [],
   "source": []
  },
  {
   "cell_type": "markdown",
   "id": "9f970757",
   "metadata": {},
   "source": [
    "# KNN Regressor"
   ]
  },
  {
   "cell_type": "code",
   "execution_count": 129,
   "id": "50e4e158",
   "metadata": {},
   "outputs": [],
   "source": [
    "from sklearn.model_selection import cross_val_predict"
   ]
  },
  {
   "cell_type": "code",
   "execution_count": 130,
   "id": "d8dfad26",
   "metadata": {},
   "outputs": [
    {
     "data": {
      "text/plain": [
       "KNeighborsRegressor(n_neighbors=4)"
      ]
     },
     "execution_count": 130,
     "metadata": {},
     "output_type": "execute_result"
    }
   ],
   "source": [
    "from sklearn.neighbors import KNeighborsRegressor\n",
    "knn = KNeighborsRegressor(n_neighbors=4)\n",
    "#y_pred = cross_val_predict(knn, x, y, cv=5)\n",
    "knn.fit(x_train, y_train)\n"
   ]
  },
  {
   "cell_type": "markdown",
   "id": "a1ae443c",
   "metadata": {},
   "source": [
    "# Evaluation on training set"
   ]
  },
  {
   "cell_type": "code",
   "execution_count": 131,
   "id": "75630f24",
   "metadata": {},
   "outputs": [
    {
     "name": "stdout",
     "output_type": "stream",
     "text": [
      "Mean Absolute Error: 5138.59\n",
      "Root Mean Squared Error: 39516.07852090083\n",
      "R-squared scores: 0.527\n"
     ]
    }
   ],
   "source": [
    "predict = knn.predict(x_train)\n",
    "from sklearn.metrics import mean_squared_error, r2_score, mean_absolute_error\n",
    "mae = mean_absolute_error(y_train.values.ravel(), predict)\n",
    "mse = mean_squared_error(y_train.values.ravel(), predict)\n",
    "r2 = r2_score(y_train.values.ravel(), predict)\n",
    "\n",
    "# Print metrics\n",
    "import math\n",
    "print('Mean Absolute Error:', round(mae, 2))\n",
    "print('Root Mean Squared Error:', math.sqrt(round(mse, 2)))\n",
    "print('R-squared scores:', round(r2, 4))"
   ]
  },
  {
   "cell_type": "markdown",
   "id": "a09a8bde",
   "metadata": {},
   "source": [
    "# Evaluation on test set"
   ]
  },
  {
   "cell_type": "code",
   "execution_count": 132,
   "id": "d7305fb3",
   "metadata": {},
   "outputs": [
    {
     "name": "stdout",
     "output_type": "stream",
     "text": [
      "Mean Absolute Error: 5854.0\n",
      "Root Mean Squared Error: 27493.100733820476\n",
      "R-squared scores: 0.5265\n"
     ]
    }
   ],
   "source": [
    "val = knn.predict(x_test)\n",
    "mae = mean_absolute_error(y_test.values.ravel(), val)\n",
    "mse = mean_squared_error(y_test.values.ravel(), val)\n",
    "r2 = r2_score(y_test.values.ravel(), validation)\n",
    "\n",
    "# Print metrics\n",
    "import math\n",
    "print('Mean Absolute Error:', round(mae, 2))\n",
    "print('Root Mean Squared Error:', math.sqrt(round(mse, 2)))\n",
    "print('R-squared scores:', round(r2, 4))"
   ]
  },
  {
   "cell_type": "code",
   "execution_count": 66,
   "id": "51a5f9a8",
   "metadata": {},
   "outputs": [],
   "source": [
    "#import pickle\n",
    "#pickle.dump(knn, open(\"KNeighborsRegressor.m\", \"wb\"))"
   ]
  },
  {
   "cell_type": "code",
   "execution_count": 67,
   "id": "592274e4",
   "metadata": {},
   "outputs": [],
   "source": [
    "#import pickle\n",
    "#model = knn \n",
    "#filename = model\n",
    "#filehandler = open(filename, 'w') \n",
    "#pickle.dump(knn, open(\"KNeighborsRegressor.m\", \"wb\") \n",
    " \n",
    "# Save the trained model as a pickle string.\n",
    "#saved_model = pickle.dumps(knn)\n",
    " \n",
    "# Load the pickled model\n",
    "#knn_from_pickle = pickle.loads(saved_model)\n",
    " \n",
    "# Use the loaded pickled model to make predictions\n",
    "#knn_from_pickle.predict(x_test)"
   ]
  },
  {
   "cell_type": "code",
   "execution_count": null,
   "id": "9c65af0b",
   "metadata": {},
   "outputs": [],
   "source": [
    "error = []\n",
    "for k in range(1, 51):\n",
    "    knn = KNeighborsRegressor(n_neighbors=k)\n",
    "    y_pred = cross_val_predict(knn, x, y, cv=5)\n",
    "    error.append(math.sqrt(mean_squared_error(y, y_pred)))\n",
    "    "
   ]
  },
  {
   "cell_type": "code",
   "execution_count": null,
   "id": "335425c9",
   "metadata": {},
   "outputs": [],
   "source": [
    "plt.plot(range(1, 51), error)"
   ]
  },
  {
   "cell_type": "markdown",
   "id": "9b6fa9f9",
   "metadata": {},
   "source": [
    "# Scaling"
   ]
  },
  {
   "cell_type": "code",
   "execution_count": null,
   "id": "976cdadb",
   "metadata": {},
   "outputs": [],
   "source": [
    "from sklearn.preprocessing import StandardScaler\n",
    "from sklearn.pipeline import make_pipeline\n",
    "pipeline = make_pipeline(StandardScaler(), KNeighborsRegressor(n_neighbors=10))\n",
    "\n"
   ]
  },
  {
   "cell_type": "code",
   "execution_count": null,
   "id": "17499320",
   "metadata": {},
   "outputs": [],
   "source": [
    "y_pred = cross_val_predict(pipeline, x, y, cv=5)\n",
    "print(math.sqrt(mean_squared_error(y, y_pred)))\n",
    "print(r2_score(y, y_pred))"
   ]
  },
  {
   "cell_type": "code",
   "execution_count": null,
   "id": "e2894a92",
   "metadata": {},
   "outputs": [],
   "source": [
    "error = []\n",
    "for k in range(1, 51):\n",
    "    pipeline = make_pipeline(StandardScaler(), KNeighborsRegressor(n_neighbors=k))\n",
    "    y_pred = cross_val_predict(pipeline, x, y, cv=5)\n",
    "    error.append(math.sqrt(mean_squared_error(y, y_pred)))\n",
    "    "
   ]
  },
  {
   "cell_type": "code",
   "execution_count": null,
   "id": "fad50f72",
   "metadata": {
    "scrolled": true
   },
   "outputs": [],
   "source": [
    "plt.plot(range(1, 51), error)"
   ]
  },
  {
   "cell_type": "code",
   "execution_count": null,
   "id": "c8fbd830",
   "metadata": {},
   "outputs": [],
   "source": [
    "from sklearn.preprocessing import MinMaxScaler\n",
    "scaler = MinMaxScaler(feature_range=(0, 1))\n",
    "\n",
    "x_train_scaled = scaler.fit_transform(x_train)\n",
    "x_train = pd.DataFrame(x_train_scaled)\n",
    "\n",
    "x_test_scaled = scaler.fit_transform(x_test)\n",
    "x_test = pd.DataFrame(x_test_scaled)"
   ]
  },
  {
   "cell_type": "code",
   "execution_count": null,
   "id": "08785790",
   "metadata": {},
   "outputs": [],
   "source": [
    "#import required packages\n",
    "from sklearn import neighbors\n",
    "from sklearn.metrics import mean_squared_error \n",
    "from math import sqrt\n",
    "import matplotlib.pyplot as plt\n",
    "%matplotlib inline"
   ]
  },
  {
   "cell_type": "code",
   "execution_count": null,
   "id": "ac6b8284",
   "metadata": {},
   "outputs": [],
   "source": [
    "rmse_val = [] #to store rmse values for different k\n",
    "for K in range(20):\n",
    "    K = K+1\n",
    "    model = neighbors.KNeighborsRegressor(n_neighbors = K)\n",
    "\n",
    "    model.fit(x_train, y_train)  #fit the model\n",
    "    pred=model.predict(x_test) #make prediction on test set\n",
    "    error = sqrt(mean_squared_error(y_test,pred)) #calculate rmse\n",
    "    rmse_val.append(error) #store rmse values\n",
    "    print('RMSE value for k= ' , K , 'is:', error)"
   ]
  },
  {
   "cell_type": "code",
   "execution_count": null,
   "id": "4fd90426",
   "metadata": {},
   "outputs": [],
   "source": [
    "#plotting the rmse values against k values\n",
    "curve = pd.DataFrame(rmse_val) #elbow curve \n",
    "curve.plot()"
   ]
  },
  {
   "cell_type": "code",
   "execution_count": null,
   "id": "4f7e4ae6",
   "metadata": {},
   "outputs": [],
   "source": [
    "from sklearn.model_selection import GridSearchCV\n",
    "params = {'n_neighbors':[2,3,4,5,6,7,8,9,10,11,12,13,14,15,16,17,18,19,20]}\n",
    "\n",
    "knn = neighbors.KNeighborsRegressor()\n",
    "\n",
    "model = GridSearchCV(knn, params, cv=5)\n",
    "model.fit(x_train,y_train)\n",
    "model.best_params_"
   ]
  }
 ],
 "metadata": {
  "kernelspec": {
   "display_name": "Python 3 (ipykernel)",
   "language": "python",
   "name": "python3"
  },
  "language_info": {
   "codemirror_mode": {
    "name": "ipython",
    "version": 3
   },
   "file_extension": ".py",
   "mimetype": "text/x-python",
   "name": "python",
   "nbconvert_exporter": "python",
   "pygments_lexer": "ipython3",
   "version": "3.12.4"
  }
 },
 "nbformat": 4,
 "nbformat_minor": 5
}
